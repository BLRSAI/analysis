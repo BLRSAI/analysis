{
 "cells": [
  {
   "cell_type": "code",
   "execution_count": 49,
   "id": "a956ed0e",
   "metadata": {},
   "outputs": [],
   "source": [
    "import pandas as pd\n",
    "from matplotlib import pyplot as plt\n",
    "from scipy.cluster.vq import vq, kmeans, whiten\n",
    "from scipy.stats import linregress"
   ]
  },
  {
   "cell_type": "code",
   "execution_count": 20,
   "id": "51931ac0",
   "metadata": {},
   "outputs": [],
   "source": [
    "test_df = pd.read_csv(\"./test.csv\")\n",
    "train_df = pd.read_csv(\"./train.csv\")\n",
    "valid_df = pd.read_csv(\"./valid.csv\")"
   ]
  },
  {
   "cell_type": "code",
   "execution_count": 23,
   "id": "414fb988",
   "metadata": {},
   "outputs": [],
   "source": [
    "# add new widths\n",
    "test_df[\"box_width\"] = test_df[\"xmax\"]-test_df[\"xmin\"]\n",
    "test_df[\"box_height\"] = test_df[\"ymax\"]-test_df[\"ymin\"]\n",
    "\n",
    "train_df[\"box_width\"] = train_df[\"xmax\"]-train_df[\"xmin\"]\n",
    "train_df[\"box_height\"] = train_df[\"ymax\"]-train_df[\"ymin\"]\n",
    "\n",
    "valid_df[\"box_width\"] = valid_df[\"xmax\"]-valid_df[\"xmin\"]\n",
    "valid_df[\"box_height\"] = valid_df[\"ymax\"]-valid_df[\"ymin\"]"
   ]
  },
  {
   "cell_type": "code",
   "execution_count": 24,
   "id": "f2d6291a",
   "metadata": {},
   "outputs": [],
   "source": [
    "test_isolate = test_df[[\"box_width\", \"box_height\"]]\n",
    "train_isolate = train_df[[\"box_width\", \"box_height\"]]\n",
    "valid_isolate = valid_df[[\"box_width\", \"box_height\"]]"
   ]
  },
  {
   "cell_type": "code",
   "execution_count": 52,
   "id": "841089e4",
   "metadata": {},
   "outputs": [
    {
     "data": {
      "text/plain": [
       "Text(0.5, 1.0, 'Valid width and height')"
      ]
     },
     "execution_count": 52,
     "metadata": {},
     "output_type": "execute_result"
    },
    {
     "data": {
      "image/png": "[encoded data removed]",
      "text/plain": [
       "<Figure size 432x288 with 1 Axes>"
      ]
     },
     "metadata": {
      "needs_background": "light"
     },
     "output_type": "display_data"
    },
    {
     "data": {
      "image/png": "[encoded data removed]",
      "text/plain": [
       "<Figure size 432x288 with 1 Axes>"
      ]
     },
     "metadata": {
      "needs_background": "light"
     },
     "output_type": "display_data"
    },
    {
     "data": {
      "image/png": "[encoded data removed]",
      "text/plain": [
       "<Figure size 432x288 with 1 Axes>"
      ]
     },
     "metadata": {
      "needs_background": "light"
     },
     "output_type": "display_data"
    }
   ],
   "source": [
    "fig, ax1 = plt.subplots()\n",
    "fig.suptitle('test, train, valid')\n",
    "\n",
    "ax1.scatter(test_isolate[\"box_width\"], test_isolate[\"box_height\"])\n",
    "ax1.set_yticks([*range(0, 150, 25)])\n",
    "ax1.set_xticks([*range(0, 150, 25)])\n",
    "ax1.set_aspect(\"equal\")\n",
    "ax1.set_title(\"Test width and height\")\n",
    "\n",
    "fig, ax2 = plt.subplots()\n",
    "ax2.scatter(train_isolate[\"box_width\"], train_isolate[\"box_height\"])\n",
    "ax2.set_yticks([*range(0, 150, 25)])\n",
    "ax2.set_xticks([*range(0, 150, 25)])\n",
    "ax2.set_aspect(\"equal\")\n",
    "ax2.set_title(\"Train width and height\")\n",
    "\n",
    "\n",
    "fig, ax3 = plt.subplots()\n",
    "ax3.scatter(valid_isolate[\"box_width\"], valid_isolate[\"box_height\"])\n",
    "ax3.set_yticks([*range(0, 150, 25)])\n",
    "ax3.set_xticks([*range(0, 150, 25)])\n",
    "ax3.set_aspect(\"equal\")\n",
    "ax3.set_title(\"Valid width and height\")"
   ]
  },
  {
   "cell_type": "code",
   "execution_count": 54,
   "id": "3396597b",
   "metadata": {},
   "outputs": [
    {
     "name": "stdout",
     "output_type": "stream",
     "text": [
      "LinregressResult(slope=0.5359559613887035, intercept=6.791838297442851, rvalue=0.8713552009271357, pvalue=5.313485208167046e-33, stderr=0.030029453042896323, intercept_stderr=1.089410071630137)\n",
      "LinregressResult(slope=0.7953199427333166, intercept=8.654557606871524, rvalue=0.6828295083655842, pvalue=1.362037024128719e-185, stderr=0.023202506160475804, intercept_stderr=0.8723687116217632)\n",
      "LinregressResult(slope=0.845244631360196, intercept=0.946385138519652, rvalue=0.8513594954558641, pvalue=4.576051503197446e-50, stderr=0.03971176388966724, intercept_stderr=1.3103256719034588)\n"
     ]
    }
   ],
   "source": [
    "train_results = linregress(train_isolate[\"box_width\"], train_isolate[\"box_height\"])\n",
    "\n",
    "test_results = linregress(test_isolate[\"box_width\"], test_isolate[\"box_height\"])\n",
    "\n",
    "valid_results = linregress(valid_isolate[\"box_width\"], valid_isolate[\"box_height\"])\n",
    "\n",
    "\n",
    "print(test_results)\n",
    "print(train_results)\n",
    "print(valid_results)"
   ]
  },
  {
   "cell_type": "code",
   "execution_count": 65,
   "id": "bf91973b",
   "metadata": {},
   "outputs": [
    {
     "data": {
      "text/html": [
       "<div>\n",
       "<style scoped>\n",
       "    .dataframe tbody tr th:only-of-type {\n",
       "        vertical-align: middle;\n",
       "    }\n",
       "\n",
       "    .dataframe tbody tr th {\n",
       "        vertical-align: top;\n",
       "    }\n",
       "\n",
       "    .dataframe thead th {\n",
       "        text-align: right;\n",
       "    }\n",
       "</style>\n",
       "<table border=\"1\" class=\"dataframe\">\n",
       "  <thead>\n",
       "    <tr style=\"text-align: right;\">\n",
       "      <th></th>\n",
       "      <th>box_width</th>\n",
       "      <th>box_height</th>\n",
       "    </tr>\n",
       "  </thead>\n",
       "  <tbody>\n",
       "    <tr>\n",
       "      <th>0</th>\n",
       "      <td>82</td>\n",
       "      <td>61</td>\n",
       "    </tr>\n",
       "    <tr>\n",
       "      <th>1</th>\n",
       "      <td>75</td>\n",
       "      <td>55</td>\n",
       "    </tr>\n",
       "    <tr>\n",
       "      <th>2</th>\n",
       "      <td>18</td>\n",
       "      <td>37</td>\n",
       "    </tr>\n",
       "    <tr>\n",
       "      <th>3</th>\n",
       "      <td>8</td>\n",
       "      <td>32</td>\n",
       "    </tr>\n",
       "    <tr>\n",
       "      <th>4</th>\n",
       "      <td>46</td>\n",
       "      <td>43</td>\n",
       "    </tr>\n",
       "    <tr>\n",
       "      <th>...</th>\n",
       "      <td>...</td>\n",
       "      <td>...</td>\n",
       "    </tr>\n",
       "    <tr>\n",
       "      <th>1342</th>\n",
       "      <td>31</td>\n",
       "      <td>50</td>\n",
       "    </tr>\n",
       "    <tr>\n",
       "      <th>1343</th>\n",
       "      <td>30</td>\n",
       "      <td>53</td>\n",
       "    </tr>\n",
       "    <tr>\n",
       "      <th>1344</th>\n",
       "      <td>32</td>\n",
       "      <td>52</td>\n",
       "    </tr>\n",
       "    <tr>\n",
       "      <th>1345</th>\n",
       "      <td>31</td>\n",
       "      <td>51</td>\n",
       "    </tr>\n",
       "    <tr>\n",
       "      <th>1346</th>\n",
       "      <td>65</td>\n",
       "      <td>46</td>\n",
       "    </tr>\n",
       "  </tbody>\n",
       "</table>\n",
       "<p>1347 rows × 2 columns</p>\n",
       "</div>"
      ],
      "text/plain": [
       "      box_width  box_height\n",
       "0            82          61\n",
       "1            75          55\n",
       "2            18          37\n",
       "3             8          32\n",
       "4            46          43\n",
       "...         ...         ...\n",
       "1342         31          50\n",
       "1343         30          53\n",
       "1344         32          52\n",
       "1345         31          51\n",
       "1346         65          46\n",
       "\n",
       "[1347 rows x 2 columns]"
      ]
     },
     "execution_count": 65,
     "metadata": {},
     "output_type": "execute_result"
    }
   ],
   "source": [
    "train_isolate"
   ]
  },
  {
   "cell_type": "code",
   "execution_count": 73,
   "id": "f482da3e",
   "metadata": {},
   "outputs": [
    {
     "data": {
      "text/html": [
       "<div>\n",
       "<style scoped>\n",
       "    .dataframe tbody tr th:only-of-type {\n",
       "        vertical-align: middle;\n",
       "    }\n",
       "\n",
       "    .dataframe tbody tr th {\n",
       "        vertical-align: top;\n",
       "    }\n",
       "\n",
       "    .dataframe thead th {\n",
       "        text-align: right;\n",
       "    }\n",
       "</style>\n",
       "<table border=\"1\" class=\"dataframe\">\n",
       "  <thead>\n",
       "    <tr style=\"text-align: right;\">\n",
       "      <th></th>\n",
       "      <th>box_width</th>\n",
       "      <th>box_height</th>\n",
       "    </tr>\n",
       "  </thead>\n",
       "  <tbody>\n",
       "    <tr>\n",
       "      <th>0</th>\n",
       "      <td>47</td>\n",
       "      <td>37</td>\n",
       "    </tr>\n",
       "    <tr>\n",
       "      <th>1</th>\n",
       "      <td>53</td>\n",
       "      <td>41</td>\n",
       "    </tr>\n",
       "    <tr>\n",
       "      <th>2</th>\n",
       "      <td>44</td>\n",
       "      <td>37</td>\n",
       "    </tr>\n",
       "    <tr>\n",
       "      <th>3</th>\n",
       "      <td>42</td>\n",
       "      <td>32</td>\n",
       "    </tr>\n",
       "    <tr>\n",
       "      <th>4</th>\n",
       "      <td>41</td>\n",
       "      <td>38</td>\n",
       "    </tr>\n",
       "    <tr>\n",
       "      <th>...</th>\n",
       "      <td>...</td>\n",
       "      <td>...</td>\n",
       "    </tr>\n",
       "    <tr>\n",
       "      <th>1619</th>\n",
       "      <td>51</td>\n",
       "      <td>82</td>\n",
       "    </tr>\n",
       "    <tr>\n",
       "      <th>1620</th>\n",
       "      <td>52</td>\n",
       "      <td>56</td>\n",
       "    </tr>\n",
       "    <tr>\n",
       "      <th>1621</th>\n",
       "      <td>52</td>\n",
       "      <td>56</td>\n",
       "    </tr>\n",
       "    <tr>\n",
       "      <th>1622</th>\n",
       "      <td>55</td>\n",
       "      <td>36</td>\n",
       "    </tr>\n",
       "    <tr>\n",
       "      <th>1623</th>\n",
       "      <td>52</td>\n",
       "      <td>41</td>\n",
       "    </tr>\n",
       "  </tbody>\n",
       "</table>\n",
       "<p>1624 rows × 2 columns</p>\n",
       "</div>"
      ],
      "text/plain": [
       "      box_width  box_height\n",
       "0            47          37\n",
       "1            53          41\n",
       "2            44          37\n",
       "3            42          32\n",
       "4            41          38\n",
       "...         ...         ...\n",
       "1619         51          82\n",
       "1620         52          56\n",
       "1621         52          56\n",
       "1622         55          36\n",
       "1623         52          41\n",
       "\n",
       "[1624 rows x 2 columns]"
      ]
     },
     "execution_count": 73,
     "metadata": {},
     "output_type": "execute_result"
    }
   ],
   "source": [
    "# sum up results of test, train valid sets\n",
    "complete_set = None\n",
    "complete_set = pd.concat([test_isolate, train_isolate, valid_isolate])\n",
    "complete_set = complete_set.reset_index(drop=True)\n",
    "complete_set"
   ]
  },
  {
   "cell_type": "code",
   "execution_count": 75,
   "id": "c06d5eb8",
   "metadata": {},
   "outputs": [
    {
     "data": {
      "text/plain": [
       "Text(0.5, 1.0, 'Complete set')"
      ]
     },
     "execution_count": 75,
     "metadata": {},
     "output_type": "execute_result"
    },
    {
     "data": {
      "image/png": "[encoded data removed]",
      "text/plain": [
       "<Figure size 432x288 with 1 Axes>"
      ]
     },
     "metadata": {
      "needs_background": "light"
     },
     "output_type": "display_data"
    }
   ],
   "source": [
    "# graph the complete set of data\n",
    "\n",
    "fig, ax4 = plt.subplots()\n",
    "fig.suptitle('test, train, valid')\n",
    "\n",
    "ax4.scatter(test_isolate[\"box_width\"], test_isolate[\"box_height\"])\n",
    "ax4.set_aspect(\"equal\")\n",
    "ax4.set_xlabel(\"Widths\")\n",
    "ax4.set_ylabel(\"heights\")\n",
    "ax4.set_title(\"Complete set\")"
   ]
  },
  {
   "cell_type": "code",
   "execution_count": 76,
   "id": "c10a55a2",
   "metadata": {},
   "outputs": [
    {
     "data": {
      "text/plain": [
       "LinregressResult(slope=0.788277766515715, intercept=7.649891266452862, rvalue=0.7052257515799225, pvalue=1.5113809893609685e-244, stderr=0.01967711400147661, intercept_stderr=0.7290148582903162)"
      ]
     },
     "execution_count": 76,
     "metadata": {},
     "output_type": "execute_result"
    }
   ],
   "source": [
    "# get linear regression of the complete set\n",
    "\n",
    "linregress(complete_set[\"box_width\"], complete_set[\"box_height\"])"
   ]
  },
  {
   "cell_type": "code",
   "execution_count": 80,
   "id": "4988e546",
   "metadata": {},
   "outputs": [],
   "source": [
    "# start k-means clustering\n",
    "\n",
    "# pandas frame needs to be floats in order for this to work\n",
    "complete_set.box_width = complete_set[\"box_width\"].astype(float)\n",
    "complete_set.box_height = complete_set[\"box_height\"].astype(float)"
   ]
  },
  {
   "cell_type": "code",
   "execution_count": 91,
   "id": "7b3fb10b",
   "metadata": {},
   "outputs": [],
   "source": [
    "# start k-means clustering\n",
    "\n",
    "clusters = kmeans(complete_set, 4)\n",
    "\n",
    "clusters = clusters[0]\n",
    "xval = [x[0] for x in clusters]\n",
    "yval = [x[1] for x in clusters]"
   ]
  },
  {
   "cell_type": "code",
   "execution_count": 92,
   "id": "3de41b1e",
   "metadata": {},
   "outputs": [
    {
     "data": {
      "text/plain": [
       "Text(0.5, 1.0, 'Complete set')"
      ]
     },
     "execution_count": 92,
     "metadata": {},
     "output_type": "execute_result"
    },
    {
     "data": {
      "image/png": "[encoded data removed]",
      "text/plain": [
       "<Figure size 432x288 with 1 Axes>"
      ]
     },
     "metadata": {
      "needs_background": "light"
     },
     "output_type": "display_data"
    }
   ],
   "source": [
    "fig, kmn = plt.subplots()\n",
    "fig.suptitle('kmeans overlapped')\n",
    "\n",
    "kmn.scatter(test_isolate[\"box_width\"], test_isolate[\"box_height\"])\n",
    "kmn.scatter(xval, yval, color='r')\n",
    "kmn.set_aspect(\"equal\")\n",
    "kmn.set_xlabel(\"Widths\")\n",
    "kmn.set_ylabel(\"heights\")\n",
    "kmn.set_title(\"Complete set\")"
   ]
  }
 ],
 "metadata": {
  "kernelspec": {
   "display_name": "Python 3 (ipykernel)",
   "language": "python",
   "name": "python3"
  },
  "language_info": {
   "codemirror_mode": {
    "name": "ipython",
    "version": 3
   },
   "file_extension": ".py",
   "mimetype": "text/x-python",
   "name": "python",
   "nbconvert_exporter": "python",
   "pygments_lexer": "ipython3",
   "version": "3.9.10"
  }
 },
 "nbformat": 4,
 "nbformat_minor": 5
}
